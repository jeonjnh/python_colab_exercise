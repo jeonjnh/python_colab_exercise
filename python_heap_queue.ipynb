{
  "nbformat": 4,
  "nbformat_minor": 0,
  "metadata": {
    "colab": {
      "provenance": [],
      "authorship_tag": "ABX9TyPj9LcNRZEpNk8pjKDx2pfg",
      "include_colab_link": true
    },
    "kernelspec": {
      "name": "python3",
      "display_name": "Python 3"
    },
    "language_info": {
      "name": "python"
    }
  },
  "cells": [
    {
      "cell_type": "markdown",
      "metadata": {
        "id": "view-in-github",
        "colab_type": "text"
      },
      "source": [
        "<a href=\"https://colab.research.google.com/github/jeonjnh/python_colab_exercise/blob/main/python_heap_queue.ipynb\" target=\"_parent\"><img src=\"https://colab.research.google.com/assets/colab-badge.svg\" alt=\"Open In Colab\"/></a>"
      ]
    },
    {
      "cell_type": "markdown",
      "source": [
        "# Heap queue (or heapq) in Python\n",
        "\n",
        "\n",
        "> Heap data structure is mainly used to represent a priority queue. In Python, it is available using the \"heapq\" module. The property of this data structure in Python is that each time the smallest heap element is popped(min-heap). Whenever elements are pushed or popped, heap structure is maintained. The heap[0] element also returns the smallest element each time. Let's see various Operations on the heap in Python.\n",
        "\n"
      ],
      "metadata": {
        "id": "AuT9_tVt3z0S"
      }
    },
    {
      "cell_type": "markdown",
      "source": [
        "## Creating a simple heap"
      ],
      "metadata": {
        "id": "AmKaRg-G34gt"
      }
    },
    {
      "cell_type": "code",
      "execution_count": 1,
      "metadata": {
        "colab": {
          "base_uri": "https://localhost:8080/"
        },
        "id": "sK7uDezx3vE9",
        "outputId": "da1ba13e-7aae-4ae1-f166-638daf3856a7"
      },
      "outputs": [
        {
          "output_type": "stream",
          "name": "stdout",
          "text": [
            "The created heap is:  [1, 3, 9, 7, 5]\n"
          ]
        }
      ],
      "source": [
        "import heapq\n",
        "\n",
        "# initionalizing list\n",
        "li = [5,7,9,1,3]\n",
        "\n",
        "# using heapify to convert list into heap\n",
        "heapq.heapify(li)\n",
        "\n",
        "print(\"The created heap is: \", (list(li)))"
      ]
    },
    {
      "cell_type": "markdown",
      "source": [
        "## Appending and Popping Items Efficiently\n",
        "\n",
        "\n",
        "*   heappush(heap, ele) : This function is used to insert the element mentioned in its arguments into a heap. The order is adjusted, so that heap structure is maintained.\n",
        "*   heappop(heap) : This function is used to remove and return the smallest element from the heap. The order is adjusted, so that heap structure is maintained.\n",
        "\n"
      ],
      "metadata": {
        "id": "32Jirlhp5Lcm"
      }
    },
    {
      "cell_type": "code",
      "source": [
        "import heapq\n",
        "\n",
        "# initionalizing list\n",
        "li = [5,7,9,1,3]\n",
        "\n",
        "# using heapify to convert list into heap\n",
        "heapq.heapify(li)\n",
        "\n",
        "print(\"The created heap is: \", end=\"\")\n",
        "print(list(li))\n",
        "\n",
        "# using heappush() to push elements into heap\n",
        "# pushes 4\n",
        "heapq.heappush(li, 4)\n",
        "\n",
        "# printing modified heap\n",
        "print(\"The modified heap after push is : \", end=\"\")\n",
        "print(list(li))\n",
        "\n",
        "# using heappop() to pop smallest element\n",
        "print(\"The popped and smallest element is : \", end=\"\")\n",
        "print(heapq.heappop(li))"
      ],
      "metadata": {
        "colab": {
          "base_uri": "https://localhost:8080/"
        },
        "id": "7Eofdr-75yy-",
        "outputId": "f76fdc2f-db26-45f1-fea0-1f2abd108f1a"
      },
      "execution_count": 2,
      "outputs": [
        {
          "output_type": "stream",
          "name": "stdout",
          "text": [
            "The created heap is: [1, 3, 9, 7, 5]\n",
            "The modified heap after push is : [1, 3, 4, 7, 5, 9]\n",
            "The popped and smallest element is : 1\n"
          ]
        }
      ]
    },
    {
      "cell_type": "markdown",
      "source": [
        "## Appending and Popping simultaneously\n",
        "* heappushpop(heap, ele) : This function combines the functioning of both push and pop operations in one statement, increasing efficiency. Heap order is maintained after this operation.\n",
        "* heapreplace(heap, ele) : This function also inserts and pops elements in one statement, but it is different from the above function. In this, the element is first popped, then the element is pushed. i.e, the value larger than the pushed value can be returned. heapreplace() returns the smallest value originally in the heap regardless of the pushed element as opposed to heappushpop()."
      ],
      "metadata": {
        "id": "0E7rqPFY6fTI"
      }
    },
    {
      "cell_type": "code",
      "source": [
        "# importing \"heapq\" to implement heap queue\n",
        "import heapq\n",
        "\n",
        "# initializing list 1\n",
        "li1 = [5, 1, 9, 4, 3]\n",
        "\n",
        "# initializing list 2\n",
        "li2 = [5, 7, 9, 4, 3]\n",
        "\n",
        "# using heapify() to convert list into heap\n",
        "heapq.heapify(li1)\n",
        "heapq.heapify(li2)\n",
        "\n",
        "# using heappushpop() to push and pop items simultaneously\n",
        "# pops 2\n",
        "print(\"list li1:\", list(li1))\n",
        "print(\"The popped item using heappushpop() is : \", end=\"\")\n",
        "print(heapq.heappushpop(li1, 2))\n",
        "print(\"list li1:\", list(li1))\n",
        "\n",
        "# using heapreplace() to push and pop items simultaneously\n",
        "# pops 3\n",
        "print(\"list li2:\", list(li2))\n",
        "print(\"The popped item using heapreplace() is : \", end=\"\")\n",
        "print(heapq.heapreplace(li2, 6))\n",
        "print(\"list li2:\", list(li2))"
      ],
      "metadata": {
        "colab": {
          "base_uri": "https://localhost:8080/"
        },
        "id": "0VNxoejP7Ybd",
        "outputId": "62036f45-56cd-4ea7-8a97-74c35ccee11d"
      },
      "execution_count": 8,
      "outputs": [
        {
          "output_type": "stream",
          "name": "stdout",
          "text": [
            "list li1: [1, 3, 9, 4, 5]\n",
            "The popped item using heappushpop() is : 1\n",
            "list li1: [2, 3, 9, 4, 5]\n",
            "list li2: [3, 4, 9, 5, 7]\n",
            "The popped item using heapreplace() is : 3\n",
            "list li2: [4, 5, 9, 6, 7]\n"
          ]
        }
      ]
    },
    {
      "cell_type": "markdown",
      "source": [
        "## Find the largest and smallest elements from Heap in Python\n",
        "* nlargest(k, iterable, key=fun) : This function is used to return the k largest elements from the iterable specified and satisfy the key if mentioned.\n",
        "* nsmallest(k, iterable, key=fun) : This function is used to return the k smallest elements from the iterable specified and satisfy the key if mentioned."
      ],
      "metadata": {
        "id": "M8U9wWN5_P3h"
      }
    },
    {
      "cell_type": "code",
      "source": [
        "import heapq\n",
        "\n",
        "li1 = [6, 7, 9, 4, 3, 5, 8, 10, 1]\n",
        "\n",
        "heapq.heapify(li1)\n",
        "\n",
        "# using nlargest to print 3 largest numbers\n",
        "# prints 10, 9 and 8\n",
        "print(\"The 3 largest numbers in list are : \", end=\"\")\n",
        "print(heapq.nlargest(3,li1))\n",
        "\n",
        "# using nsmallest to print 3 smallest numbers\n",
        "# prints 1, 3 and 4\n",
        "print(\"The 3 smallest numbers in list are : \", end=\"\")\n",
        "print(heapq.nsmallest(3, li1))"
      ],
      "metadata": {
        "colab": {
          "base_uri": "https://localhost:8080/"
        },
        "id": "evpFS1x-_wvi",
        "outputId": "eb49535a-b1ba-4adf-ab54-10fee4dac08b"
      },
      "execution_count": 2,
      "outputs": [
        {
          "output_type": "stream",
          "name": "stdout",
          "text": [
            "The 3 largest numbers in list are : [10, 9, 8]\n",
            "The 3 smallest numbers in list are : [1, 3, 4]\n"
          ]
        }
      ]
    },
    {
      "cell_type": "code",
      "source": [
        "# Example\n",
        "\n",
        "# Initialize a list with some values\n",
        "values = [5, 1, 3, 7, 4, 2]\n",
        "\n",
        "# Convert the list into a heap\n",
        "heapq.heapify(values)\n",
        "\n",
        "# Print the heap\n",
        "print(\"Heap:\", values)\n",
        "\n",
        "# Add a new values to the heap\n",
        "heapq.heappush(values, 6)\n",
        "\n",
        "# Print the updated heap\n",
        "print(\"Heap after push:\", values)\n",
        "\n",
        "# Remove and return the smallest element from the heap\n",
        "smallest = heapq.heappop(values)\n",
        "\n",
        "# Print the smallest element and the updated heap\n",
        "print(\"smallest element:\", smallest)\n",
        "print(\"Heap after pop:\", values)\n",
        "\n",
        "# Get the n smallest elements from the heap\n",
        "n_smallest = heapq.nsmallest(3, values)\n",
        "\n",
        "# Print the n smallest elements\n",
        "print(\"smallest 3 elements:\", n_smallest)\n",
        "\n",
        "# Get the n largest elements from the heap\n",
        "n_largest = heapq.nlargest(2, values)\n",
        " \n",
        "# Print the n largest elements\n",
        "print(\"Largest 2 elements:\", n_largest)"
      ],
      "metadata": {
        "colab": {
          "base_uri": "https://localhost:8080/"
        },
        "id": "7Udbvy2-AM-Y",
        "outputId": "54d84342-e8c2-4b0b-87a2-8f5bca74493c"
      },
      "execution_count": 9,
      "outputs": [
        {
          "output_type": "stream",
          "name": "stdout",
          "text": [
            "Heap: [1, 4, 2, 7, 5, 3]\n",
            "Heap after push: [1, 4, 2, 7, 5, 3, 6]\n",
            "smallest element: 1\n",
            "Heap after pop: [2, 4, 3, 7, 5, 6]\n",
            "smallest 3 elements: [2, 3, 4]\n",
            "Largest 2 elements: [7, 6]\n"
          ]
        }
      ]
    },
    {
      "cell_type": "markdown",
      "source": [
        "## Advantages of using a heap queue (or heapq) in Python:\n",
        "* **Efficient**: A heap queue is a highly efficient data structure for managing priority queues and heaps in Python. It provides logarithmic time complexity for many operations, making it a popular choice for many applications.\n",
        "* **Space-efficient**: Heap queues are space-efficient, as they store elements in an array-based representation, minimizing the overhead associated with node-based data structures like linked lists.\n",
        "* **Easy to use**: Heap queues in Python are easy to use, with a simple and intuitive API that makes it easy to perform basic operations like inserting, deleting, and retrieving elements from the heap.\n",
        "* **Flexible**: Heap queues in Python can be used to implement various data structures like priority queues, heaps, and binary trees, making them a versatile tool for many applications."
      ],
      "metadata": {
        "id": "UtilzEHyBvf1"
      }
    },
    {
      "cell_type": "markdown",
      "source": [
        "## Disadvantages of using a heap queue (or heapq) in Python:\n",
        "* Limited functionality: Heap queues are primarily designed for managing priority queues and heaps, and may not be suitable for more complex data structures and algorithms.\n",
        "* No random access: Heap queues do not support random access to elements, making it difficult to access elements in the middle of the heap or modify elements that are not at the top of the heap.\n",
        "* No sorting: Heap queues do not support sorting, so if you need to sort elements in a specific order, you will need to use a different data structure or algorithm.\n",
        "* Not thread-safe: Heap queues are not thread-safe, meaning that they may not be suitable for use in multi-threaded applications where data synchronization is critical."
      ],
      "metadata": {
        "id": "sRcv_lhACBts"
      }
    }
  ]
}