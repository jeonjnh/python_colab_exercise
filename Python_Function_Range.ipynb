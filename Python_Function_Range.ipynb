{
  "nbformat": 4,
  "nbformat_minor": 0,
  "metadata": {
    "colab": {
      "provenance": [],
      "authorship_tag": "ABX9TyNb4AUWE/tiO6fyf3I7eUXx",
      "include_colab_link": true
    },
    "kernelspec": {
      "name": "python3",
      "display_name": "Python 3"
    },
    "language_info": {
      "name": "python"
    }
  },
  "cells": [
    {
      "cell_type": "markdown",
      "metadata": {
        "id": "view-in-github",
        "colab_type": "text"
      },
      "source": [
        "<a href=\"https://colab.research.google.com/github/jeonjnh/python_colab_exercise/blob/main/Python_Function_Range.ipynb\" target=\"_parent\"><img src=\"https://colab.research.google.com/assets/colab-badge.svg\" alt=\"Open In Colab\"/></a>"
      ]
    },
    {
      "cell_type": "markdown",
      "source": [
        "# Python range() Function\n",
        "\n",
        "\n",
        "\n",
        "> https://www.w3schools.com/python/ref_func_range.asp\n",
        "\n"
      ],
      "metadata": {
        "id": "his7JHdQW7ej"
      }
    },
    {
      "cell_type": "markdown",
      "source": [
        "## Definition and Usage\n",
        "\n",
        "\n",
        "> The range() function returns a sequence of numbers, starting from 0 by default, and increments by 1 (by default), and stops before a specified number.\n",
        "\n"
      ],
      "metadata": {
        "id": "GmiP7yMRXFVC"
      }
    },
    {
      "cell_type": "markdown",
      "source": [
        "## Syntax\n",
        "\n",
        "\n",
        "> range(start, stop, step)\n",
        "\n",
        "\n",
        "*   start : Optional. An integer number specifying at which position to start. Default is 0\n",
        "\n",
        "*   stop : Required. An integer number specifying at which position to stop (not included)\n",
        "\n",
        "*   step : Optional. An integer number specifying the incrementation. Default is 1\n",
        "\n",
        "\n",
        "\n",
        "\n",
        "\n"
      ],
      "metadata": {
        "id": "aNuY4K3rXSng"
      }
    },
    {
      "cell_type": "code",
      "source": [
        "x = range(3,6)\n",
        "for n in x:\n",
        "  print(n)"
      ],
      "metadata": {
        "colab": {
          "base_uri": "https://localhost:8080/"
        },
        "id": "esFHRZ17XRwJ",
        "outputId": "e27de743-e51b-4c23-e82f-89607b659609"
      },
      "execution_count": 1,
      "outputs": [
        {
          "output_type": "stream",
          "name": "stdout",
          "text": [
            "3\n",
            "4\n",
            "5\n"
          ]
        }
      ]
    },
    {
      "cell_type": "code",
      "execution_count": 2,
      "metadata": {
        "colab": {
          "base_uri": "https://localhost:8080/"
        },
        "id": "v4nSGmzOW13t",
        "outputId": "7f538a9f-c794-4c6a-a50c-ad98fa994db8"
      },
      "outputs": [
        {
          "output_type": "stream",
          "name": "stdout",
          "text": [
            "3\n",
            "5\n",
            "7\n",
            "9\n",
            "11\n",
            "13\n",
            "15\n",
            "17\n",
            "19\n"
          ]
        }
      ],
      "source": [
        "x = range(3, 20, 2)\n",
        "for n in x:\n",
        "  print(n)"
      ]
    },
    {
      "cell_type": "code",
      "source": [
        "x = range(4, -1, -1)\n",
        "for n in x:\n",
        "  print(n)"
      ],
      "metadata": {
        "colab": {
          "base_uri": "https://localhost:8080/"
        },
        "id": "VOGAHGIiYFtm",
        "outputId": "d953c0ec-36fd-4a41-da3b-7c0b0a9ba053"
      },
      "execution_count": 3,
      "outputs": [
        {
          "output_type": "stream",
          "name": "stdout",
          "text": [
            "4\n",
            "3\n",
            "2\n",
            "1\n",
            "0\n"
          ]
        }
      ]
    }
  ]
}