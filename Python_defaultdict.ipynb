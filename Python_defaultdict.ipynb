{
  "nbformat": 4,
  "nbformat_minor": 0,
  "metadata": {
    "colab": {
      "provenance": [],
      "authorship_tag": "ABX9TyMcjhOx2BMEsEbvGdr7+Q7v",
      "include_colab_link": true
    },
    "kernelspec": {
      "name": "python3",
      "display_name": "Python 3"
    },
    "language_info": {
      "name": "python"
    }
  },
  "cells": [
    {
      "cell_type": "markdown",
      "metadata": {
        "id": "view-in-github",
        "colab_type": "text"
      },
      "source": [
        "<a href=\"https://colab.research.google.com/github/jeonjnh/python_colab_exercise/blob/main/Python_defaultdict.ipynb\" target=\"_parent\"><img src=\"https://colab.research.google.com/assets/colab-badge.svg\" alt=\"Open In Colab\"/></a>"
      ]
    },
    {
      "cell_type": "markdown",
      "source": [
        "# Defaultdic in Python\n",
        "\n",
        "\n",
        "> Dictionary in Python is an unordered collection of data values that are used to store data values like a map. Unlike other Data Types that hold only single value as an element, the Dictionary holds key-value pair. In Dictionary, the key must be unique and immutable. This means that a Python Tuple can be a key whereas a Python List can not. A Dictionary can be created by placing a sequence of elements within curly {} braces, separated by ‘comma’.\n",
        "\n"
      ],
      "metadata": {
        "id": "IPTnT9sIpqgR"
      }
    },
    {
      "cell_type": "code",
      "execution_count": null,
      "metadata": {
        "colab": {
          "base_uri": "https://localhost:8080/"
        },
        "id": "xmTqXKyEpkDn",
        "outputId": "05805003-8ce1-4c39-831d-dbfd7c0b2957"
      },
      "outputs": [
        {
          "output_type": "stream",
          "name": "stdout",
          "text": [
            "Dictionary\n",
            "{1: 'Geeks', 2: 'For', 3: 'Geeks'}\n",
            "Geeks\n"
          ]
        }
      ],
      "source": [
        "# python default dictionary\n",
        "\n",
        "Dict = {1: 'Geeks', 2: 'For', 3: 'Geeks'}\n",
        "print(\"Dictionary\")\n",
        "print(Dict)\n",
        "print(Dict[1])"
      ]
    },
    {
      "cell_type": "code",
      "source": [
        "print(Dict[4])\n",
        "# Sometimes, when the KeyError is raised, it might become a problem.\n",
        "# To overcome this Python introduces another dictionary like container \n",
        "# known as Defaultdict which is present inside the collections module."
      ],
      "metadata": {
        "colab": {
          "base_uri": "https://localhost:8080/",
          "height": 166
        },
        "id": "IIYktKD0qUQj",
        "outputId": "624ffd54-3fea-4f10-d00d-c68ae729f254"
      },
      "execution_count": null,
      "outputs": [
        {
          "output_type": "error",
          "ename": "KeyError",
          "evalue": "ignored",
          "traceback": [
            "\u001b[0;31m---------------------------------------------------------------------------\u001b[0m",
            "\u001b[0;31mKeyError\u001b[0m                                  Traceback (most recent call last)",
            "\u001b[0;32m<ipython-input-2-f575a94f06cd>\u001b[0m in \u001b[0;36m<cell line: 1>\u001b[0;34m()\u001b[0m\n\u001b[0;32m----> 1\u001b[0;31m \u001b[0mprint\u001b[0m\u001b[0;34m(\u001b[0m\u001b[0mDict\u001b[0m\u001b[0;34m[\u001b[0m\u001b[0;36m4\u001b[0m\u001b[0;34m]\u001b[0m\u001b[0;34m)\u001b[0m\u001b[0;34m\u001b[0m\u001b[0;34m\u001b[0m\u001b[0m\n\u001b[0m",
            "\u001b[0;31mKeyError\u001b[0m: 4"
          ]
        }
      ]
    },
    {
      "cell_type": "markdown",
      "source": [
        "# DefaultDict\n",
        "\n",
        "\n",
        "> Defaultdict is a container like dictionaries present in the module collections. Defaultdict is a sub-class of the dictionary class that returns a dictionary-like object. The functionality of both dictionaries and defaultdict are almost same except for the fact that defaultdict never raises a KeyError. It provides a default value for the key that does not exists.\n",
        "\n"
      ],
      "metadata": {
        "id": "1A4qmdItq0zw"
      }
    },
    {
      "cell_type": "code",
      "source": [
        "from collections import defaultdict\n",
        "\n",
        "# function to return a default\n",
        "# values for keys that is not present\n",
        "def def_values():\n",
        "  return \"Not Present\"\n",
        "\n",
        "# Defining the dict\n",
        "d = defaultdict(def_values)\n",
        "d[\"a\"] = 1\n",
        "d[\"b\"] = 1\n",
        "\n",
        "print(d[\"a\"])\n",
        "print(d[\"b\"])\n",
        "print(d[\"c\"])"
      ],
      "metadata": {
        "colab": {
          "base_uri": "https://localhost:8080/"
        },
        "id": "fskeTzaYq8k4",
        "outputId": "2d13838d-da57-4eb5-89ae-6f6dfc43eb69"
      },
      "execution_count": null,
      "outputs": [
        {
          "output_type": "stream",
          "name": "stdout",
          "text": [
            "1\n",
            "1\n",
            "Not Present\n"
          ]
        }
      ]
    },
    {
      "cell_type": "markdown",
      "source": [
        "# Inner Working of defaultdict\n",
        "\n",
        "\n",
        "> Defaultdict adds one writable instance variable and one method in addition to the standard dictionary operations. The instance variable is the default_factory parameter and the method provided is __missing__.\n",
        "\n",
        "*  Default_factory : It is a function returning the default value for dictionary defined. If this argument is absent then the dictionary raises a KeyError\n",
        "\n"
      ],
      "metadata": {
        "id": "7AB4wEWZrk_c"
      }
    },
    {
      "cell_type": "code",
      "source": [
        "from collections import defaultdict\n",
        "\n",
        "d = defaultdict(lambda: \"Not Present\")\n",
        "d[\"a\"] = 1\n",
        "d[\"b\"] = 2\n",
        "\n",
        "print(d[\"a\"])\n",
        "print(d[\"b\"])\n",
        "print(d[\"c\"])"
      ],
      "metadata": {
        "colab": {
          "base_uri": "https://localhost:8080/"
        },
        "id": "8jVmGxFWr_2i",
        "outputId": "09465886-ad4e-4c97-e364-f3fa3612bf0b"
      },
      "execution_count": null,
      "outputs": [
        {
          "output_type": "stream",
          "name": "stdout",
          "text": [
            "1\n",
            "2\n",
            "Not Present\n"
          ]
        }
      ]
    },
    {
      "cell_type": "markdown",
      "source": [
        "*  __missing__() : This function is used to provide the default value for the dictionary. This function takes default_factory as an argument and if this argument is None, a KeyError is raised otherwise it provides a default value for the given key. This method is basically called by the __getitem__() method of the dict class when the requested key is not found. __getitem__() raises or return the value returned by the __missing__(). method."
      ],
      "metadata": {
        "id": "1arsfjQrsOjZ"
      }
    },
    {
      "cell_type": "code",
      "source": [
        "from collections import defaultdict\n",
        "\n",
        "d = defaultdict(lambda: \"Not Present\")\n",
        "d[\"a\"] = 1\n",
        "d[\"b\"] = 2\n",
        "\n",
        "print(d.__missing__('a'))"
      ],
      "metadata": {
        "colab": {
          "base_uri": "https://localhost:8080/"
        },
        "id": "RQotZBiYs-TO",
        "outputId": "aa585823-0564-481d-abbd-4323d02256ea"
      },
      "execution_count": null,
      "outputs": [
        {
          "output_type": "stream",
          "name": "stdout",
          "text": [
            "Not Present\n"
          ]
        }
      ]
    },
    {
      "cell_type": "markdown",
      "source": [
        "# Using List as default_factory\n",
        "*  When the list class is passed as the default_factory argument, then a defaultdict is created with the values that are list."
      ],
      "metadata": {
        "id": "8JSU8154tOz7"
      }
    },
    {
      "cell_type": "code",
      "source": [
        "from collections import defaultdict\n",
        "\n",
        "d = defaultdict(list)\n",
        "for i in range(5):\n",
        "  d[i].append(i)\n",
        "\n",
        "print(\"Dictionary with values as list:\")\n",
        "print(d)"
      ],
      "metadata": {
        "colab": {
          "base_uri": "https://localhost:8080/"
        },
        "id": "-JMQCbEFte7k",
        "outputId": "61654ca4-135f-4736-978e-ef70317a3361"
      },
      "execution_count": null,
      "outputs": [
        {
          "output_type": "stream",
          "name": "stdout",
          "text": [
            "Dictionary with values as list:\n",
            "defaultdict(<class 'list'>, {0: [0], 1: [1], 2: [2], 3: [3], 4: [4]})\n"
          ]
        }
      ]
    },
    {
      "cell_type": "markdown",
      "source": [
        "# Using int as default_factory\n",
        "*  When the int class is passed as the default_factory argument, then a defaultdict is created with value as zero."
      ],
      "metadata": {
        "id": "Zi1AVzp7txoU"
      }
    },
    {
      "cell_type": "code",
      "source": [
        "from collections import defaultdict\n",
        "\n",
        "d = defaultdict(int)\n",
        "L = [1, 2, 3, 4, 2, 4, 1, 2, 100]\n",
        "\n",
        "for i in L:\n",
        "  d[i] += 1\n",
        "\n",
        "print(d)\n",
        "print(d.keys())\n",
        "print(d.values())"
      ],
      "metadata": {
        "colab": {
          "base_uri": "https://localhost:8080/"
        },
        "id": "cNuK9Mu4uBCp",
        "outputId": "4bc3c6d2-4d61-41e7-c96c-cd6190d1f8b4"
      },
      "execution_count": null,
      "outputs": [
        {
          "output_type": "stream",
          "name": "stdout",
          "text": [
            "defaultdict(<class 'int'>, {1: 2, 2: 3, 3: 1, 4: 2, 100: 1})\n",
            "dict_keys([1, 2, 3, 4, 100])\n",
            "dict_values([2, 3, 1, 2, 1])\n"
          ]
        }
      ]
    }
  ]
}