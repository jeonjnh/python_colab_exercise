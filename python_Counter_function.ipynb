{
  "nbformat": 4,
  "nbformat_minor": 0,
  "metadata": {
    "colab": {
      "provenance": []
    },
    "kernelspec": {
      "name": "python3",
      "display_name": "Python 3"
    },
    "language_info": {
      "name": "python"
    }
  },
  "cells": [
    {
      "cell_type": "markdown",
      "source": [
        "# Python's Counter: The Pythonic Way to Count Objects\n",
        "\n",
        "\n",
        "> Counting several repeated objects at once is a common problem in programming. Python offers a bunch of tools and techniques you can use to approach this problem. However, Python’s Counter from collections provides a clean, efficient, and Pythonic solution.\n",
        "\n"
      ],
      "metadata": {
        "id": "UJNjnfUQcmhw"
      }
    },
    {
      "cell_type": "markdown",
      "source": [
        "## Counting Objects in Python\n",
        "\n",
        "\n",
        "> Sometimes you need to count the objects in a given data source to know how often they occur. In other words, you need to determine their frequency. For example, you might want to know how often a specific item appears in a list or sequence of values. When your list is short, counting the items can be straightforward and quick. However, when you have a long list, counting things can be more challenging.\n",
        "\n"
      ],
      "metadata": {
        "id": "GVcsLLp1c5a_"
      }
    },
    {
      "cell_type": "markdown",
      "source": [
        "### example - counts the letters in word \"Mississippi\" without Counter()"
      ],
      "metadata": {
        "id": "uwO1OxGcdMp-"
      }
    },
    {
      "cell_type": "code",
      "source": [
        "word = \"mississippi\"\n",
        "counter = {}\n",
        "for letter in word:\n",
        "  if letter not in counter:\n",
        "    counter[letter] = 0\n",
        "  counter[letter] += 1\n",
        "\n",
        "counter"
      ],
      "metadata": {
        "colab": {
          "base_uri": "https://localhost:8080/"
        },
        "id": "0Z6MAW7fcmLQ",
        "outputId": "2c9cd05a-df5c-486c-9f5b-fbc439d3c00e"
      },
      "execution_count": 1,
      "outputs": [
        {
          "output_type": "execute_result",
          "data": {
            "text/plain": [
              "{'m': 1, 'i': 4, 's': 4, 'p': 2}"
            ]
          },
          "metadata": {},
          "execution_count": 1
        }
      ]
    },
    {
      "cell_type": "markdown",
      "source": [
        "### example - counts the letters in word \"Mississippi\" with Counter()"
      ],
      "metadata": {
        "id": "QY5qLfVadzo1"
      }
    },
    {
      "cell_type": "code",
      "execution_count": 4,
      "metadata": {
        "colab": {
          "base_uri": "https://localhost:8080/"
        },
        "id": "Qua_b7C1cghs",
        "outputId": "3d20937d-8214-49c1-c165-bb29d56f7ced"
      },
      "outputs": [
        {
          "output_type": "execute_result",
          "data": {
            "text/plain": [
              "Counter({'m': 1, 'i': 4, 's': 4, 'p': 2})"
            ]
          },
          "metadata": {},
          "execution_count": 4
        }
      ],
      "source": [
        "from collections import Counter\n",
        "\n",
        "#use a string as an argument\n",
        "Counter(\"mississippi\")"
      ]
    },
    {
      "cell_type": "code",
      "source": [
        "#use a list as an argument\n",
        "Counter(list(\"mississippi\"))"
      ],
      "metadata": {
        "colab": {
          "base_uri": "https://localhost:8080/"
        },
        "id": "YR8jMd4QeLqN",
        "outputId": "bdd01d57-a8ca-425c-a0f3-add5d537f3b2"
      },
      "execution_count": 3,
      "outputs": [
        {
          "output_type": "execute_result",
          "data": {
            "text/plain": [
              "Counter({'m': 1, 'i': 4, 's': 4, 'p': 2})"
            ]
          },
          "metadata": {},
          "execution_count": 3
        }
      ]
    },
    {
      "cell_type": "code",
      "source": [
        "#update object count\n",
        "letters = Counter({\"i\": 4, \"s\": 4, \"p\": 2, \"m\": 1})\n",
        "letters.update(\"missouri\")\n",
        "letters"
      ],
      "metadata": {
        "colab": {
          "base_uri": "https://localhost:8080/"
        },
        "id": "ChWi6zq1eokU",
        "outputId": "e4b6b600-9cf6-42c8-dcae-e5aee6ffa75c"
      },
      "execution_count": 6,
      "outputs": [
        {
          "output_type": "execute_result",
          "data": {
            "text/plain": [
              "Counter({'i': 6, 's': 6, 'p': 2, 'm': 2, 'o': 1, 'u': 1, 'r': 1})"
            ]
          },
          "metadata": {},
          "execution_count": 6
        }
      ]
    },
    {
      "cell_type": "markdown",
      "source": [
        "## Accessing the Counter’s Content\n",
        "\n",
        "\n",
        "> As you already know, Counter has almost the same interface as dict. You can perform nearly the same actions with counters as you can with standard dictionaries. For example, you can access their values using dictionary-like key access ([key]). You can also iterate over the keys, values, and items using the usual techniques and methods:\n",
        "\n"
      ],
      "metadata": {
        "id": "BfwvCMmSfIcL"
      }
    },
    {
      "cell_type": "code",
      "source": [
        "letters = Counter(\"mississippi\")\n",
        "letters[\"p\"]\n",
        "\n",
        "for letter in letters:\n",
        "  print(letter,letters[letter])\n",
        "\n",
        "print(\"###########\")\n",
        "\n",
        "for letter in letters.keys():\n",
        "  print(letter,letters[letter])\n",
        "\n",
        "print(\"###########\")\n",
        "\n",
        "for count in letters.values():\n",
        "  print(count)\n",
        "\n",
        "print(\"###########\")\n",
        "\n",
        "for letter, count in letters.items():\n",
        "  print(letter,count)"
      ],
      "metadata": {
        "colab": {
          "base_uri": "https://localhost:8080/"
        },
        "id": "6KQvqGzMe-xE",
        "outputId": "5c25d683-4e5a-48a2-bce4-154c8b006c09"
      },
      "execution_count": 11,
      "outputs": [
        {
          "output_type": "stream",
          "name": "stdout",
          "text": [
            "m 1\n",
            "i 4\n",
            "s 4\n",
            "p 2\n",
            "###########\n",
            "m 1\n",
            "i 4\n",
            "s 4\n",
            "p 2\n",
            "###########\n",
            "1\n",
            "4\n",
            "4\n",
            "2\n",
            "###########\n",
            "m 1\n",
            "i 4\n",
            "s 4\n",
            "p 2\n"
          ]
        }
      ]
    },
    {
      "cell_type": "markdown",
      "source": [
        "## Finding Most Common Objects\n",
        "\n",
        "\n",
        "> If you need to list a group of objects according to their frequency, or the number of times they appear, then you can use .most_common(). This method returns a list of (object, count) sorted by the objects’ current count. Objects with equal counts come in the order they first appear.\n",
        "\n"
      ],
      "metadata": {
        "id": "nmmUhMHdf8_y"
      }
    },
    {
      "cell_type": "code",
      "source": [
        "sales = Counter(banana=15, tomato=4, apple=39, orange=30)\n",
        "\n",
        "# the most common object\n",
        "sales.most_common(1)\n",
        "\n",
        "# all objects sorted by count\n",
        "sales.most_common()"
      ],
      "metadata": {
        "colab": {
          "base_uri": "https://localhost:8080/"
        },
        "id": "IEqNfBN5gCCC",
        "outputId": "0573f069-a7e0-4ed8-a500-f86a5fe50402"
      },
      "execution_count": 12,
      "outputs": [
        {
          "output_type": "execute_result",
          "data": {
            "text/plain": [
              "[('apple', 39), ('orange', 30), ('banana', 15), ('tomato', 4)]"
            ]
          },
          "metadata": {},
          "execution_count": 12
        }
      ]
    },
    {
      "cell_type": "markdown",
      "source": [
        "## Plotting Categorical Data With ASCII Bar Charts\n",
        "\n",
        "\n",
        "> Statistics is another field in which you can use Counter. For example, when you’re working with categorical data, you might want to create bar charts to visualize the number of observations per category. Bar charts are especially handy for plotting this type of data.\n",
        "\n"
      ],
      "metadata": {
        "id": "UpGYN7YogbQz"
      }
    },
    {
      "cell_type": "code",
      "source": [
        "def print_ascii_bar_chart(data, symbol=\"#\"):\n",
        "    counter = Counter(data).most_common()\n",
        "    chart = {category: symbol * frequency for category, frequency in counter}\n",
        "    max_len = max(len(category) for category in chart)\n",
        "    for category, frequency in chart.items():\n",
        "        padding = (max_len - len(category)) * \" \"\n",
        "        print(f\"{category}{padding} |{frequency}\")"
      ],
      "metadata": {
        "id": "8fVXESecgiPi"
      },
      "execution_count": 13,
      "outputs": []
    },
    {
      "cell_type": "code",
      "source": [
        "letters = \"mississippimississippimississippimississippi\"\n",
        "print_ascii_bar_chart(letters)"
      ],
      "metadata": {
        "colab": {
          "base_uri": "https://localhost:8080/"
        },
        "id": "sL99EP9cgk8p",
        "outputId": "e65857be-d741-4edc-bd59-51c8093dbccf"
      },
      "execution_count": 14,
      "outputs": [
        {
          "output_type": "stream",
          "name": "stdout",
          "text": [
            "i |################\n",
            "s |################\n",
            "p |########\n",
            "m |####\n"
          ]
        }
      ]
    }
  ]
}