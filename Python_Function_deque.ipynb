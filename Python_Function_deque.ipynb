{
  "nbformat": 4,
  "nbformat_minor": 0,
  "metadata": {
    "colab": {
      "provenance": [],
      "authorship_tag": "ABX9TyMzhJ1tT9eoGBExmUO+zVEf",
      "include_colab_link": true
    },
    "kernelspec": {
      "name": "python3",
      "display_name": "Python 3"
    },
    "language_info": {
      "name": "python"
    }
  },
  "cells": [
    {
      "cell_type": "markdown",
      "metadata": {
        "id": "view-in-github",
        "colab_type": "text"
      },
      "source": [
        "<a href=\"https://colab.research.google.com/github/jeonjnh/python_colab_exercise/blob/main/Python_Function_deque.ipynb\" target=\"_parent\"><img src=\"https://colab.research.google.com/assets/colab-badge.svg\" alt=\"Open In Colab\"/></a>"
      ]
    },
    {
      "cell_type": "markdown",
      "source": [
        "## Python's deque: Implement Efficient Queues and Stacks\n",
        "\n",
        "https://realpython.com/python-deque/\n",
        "\n",
        "> Python’s collections module provides a class called deque that’s specially designed to provide fast and memory-efficient ways to append and pop item from both ends of the underlying data structure. \n",
        "\n",
        "\n",
        "\n",
        "> Python’s deque is a low-level and highly optimized double-ended queue that’s useful for implementing elegant, efficient, and Pythonic queues and stacks, which are the most common list-like data types in computing.\n",
        "\n",
        "\n",
        "\n"
      ],
      "metadata": {
        "id": "f3of1wRFpfEQ"
      }
    },
    {
      "cell_type": "markdown",
      "source": [
        "# Main caracteristic of deque"
      ],
      "metadata": {
        "id": "8MrtGPNHpI1I"
      }
    },
    {
      "cell_type": "markdown",
      "source": [
        "\n",
        "\n",
        "*   Stores items of any data type\n",
        "* Is a mutable data type\n",
        "* Supports membership operations with the in operator\n",
        "* Supports indexing, like in a_deque[i]\n",
        "* Doesn’t support slicing, like in a_deque[0:2]\n",
        "* Supports built-in functions that operate on sequences and iterables, such as len(), sorted(), reversed(), and more\n",
        "* Doesn’t support in-place sorting\n",
        "* Supports normal and reverse iteration\n",
        "* Supports pickling with pickle\n",
        "* Ensures fast, memory-efficient, and thread-safe pop and append operations on both ends"
      ],
      "metadata": {
        "id": "vNhtDr1Eq2WD"
      }
    },
    {
      "cell_type": "code",
      "source": [
        "from collections import deque"
      ],
      "metadata": {
        "id": "Z5Ufl-JHrTCW"
      },
      "execution_count": 1,
      "outputs": []
    },
    {
      "cell_type": "code",
      "source": [
        "#create an empty deque\n",
        "deque()"
      ],
      "metadata": {
        "colab": {
          "base_uri": "https://localhost:8080/"
        },
        "id": "X6__q_mor4Kz",
        "outputId": "c9fc944f-53fc-49b0-a26f-e72c732ed1bb"
      },
      "execution_count": 2,
      "outputs": [
        {
          "output_type": "execute_result",
          "data": {
            "text/plain": [
              "deque([])"
            ]
          },
          "metadata": {},
          "execution_count": 2
        }
      ]
    },
    {
      "cell_type": "code",
      "source": [
        "# use different iterables to create deque \n",
        "deque((1,2,3,4))"
      ],
      "metadata": {
        "colab": {
          "base_uri": "https://localhost:8080/"
        },
        "id": "2MRBnyaVsFzU",
        "outputId": "29adbbb8-1601-4bed-8655-e06c56798685"
      },
      "execution_count": 4,
      "outputs": [
        {
          "output_type": "execute_result",
          "data": {
            "text/plain": [
              "deque([1, 2, 3, 4])"
            ]
          },
          "metadata": {},
          "execution_count": 4
        }
      ]
    },
    {
      "cell_type": "code",
      "source": [
        "deque([1,2,3,4])"
      ],
      "metadata": {
        "colab": {
          "base_uri": "https://localhost:8080/"
        },
        "id": "YmmMLr19sMdP",
        "outputId": "9aacbc55-c627-4f6b-dd17-b398ac1f5b95"
      },
      "execution_count": 5,
      "outputs": [
        {
          "output_type": "execute_result",
          "data": {
            "text/plain": [
              "deque([1, 2, 3, 4])"
            ]
          },
          "metadata": {},
          "execution_count": 5
        }
      ]
    },
    {
      "cell_type": "code",
      "source": [
        "deque(range(1,5))"
      ],
      "metadata": {
        "colab": {
          "base_uri": "https://localhost:8080/"
        },
        "id": "FIgqyG4nse0h",
        "outputId": "b527bb76-b838-4784-b08e-ef43c2810400"
      },
      "execution_count": 7,
      "outputs": [
        {
          "output_type": "execute_result",
          "data": {
            "text/plain": [
              "deque([1, 2, 3, 4])"
            ]
          },
          "metadata": {},
          "execution_count": 7
        }
      ]
    },
    {
      "cell_type": "code",
      "source": [
        "deque(\"abcd\")"
      ],
      "metadata": {
        "colab": {
          "base_uri": "https://localhost:8080/"
        },
        "id": "_gHYMQ2DtGvN",
        "outputId": "593af5dc-6a8f-4c79-a5ec-d5f8ac9cc25e"
      },
      "execution_count": 9,
      "outputs": [
        {
          "output_type": "execute_result",
          "data": {
            "text/plain": [
              "deque(['a', 'b', 'c', 'd'])"
            ]
          },
          "metadata": {},
          "execution_count": 9
        }
      ]
    },
    {
      "cell_type": "code",
      "source": [
        "numbers = {\"one\": 1, \"two\": 2, \"three\": 3, \"four\": 4}\n",
        "deque(numbers.keys())"
      ],
      "metadata": {
        "colab": {
          "base_uri": "https://localhost:8080/"
        },
        "id": "VJsqch1ytIG5",
        "outputId": "ac4e45fc-0b22-40d9-8580-e4e2c9da69fe"
      },
      "execution_count": 12,
      "outputs": [
        {
          "output_type": "execute_result",
          "data": {
            "text/plain": [
              "deque(['one', 'two', 'three', 'four'])"
            ]
          },
          "metadata": {},
          "execution_count": 12
        }
      ]
    },
    {
      "cell_type": "code",
      "source": [
        "deque(numbers.values())"
      ],
      "metadata": {
        "colab": {
          "base_uri": "https://localhost:8080/"
        },
        "id": "Bzgfb7dGtdup",
        "outputId": "48da01f5-e3eb-4705-853b-7ae73fb02184"
      },
      "execution_count": 13,
      "outputs": [
        {
          "output_type": "execute_result",
          "data": {
            "text/plain": [
              "deque([1, 2, 3, 4])"
            ]
          },
          "metadata": {},
          "execution_count": 13
        }
      ]
    },
    {
      "cell_type": "code",
      "source": [
        "deque(numbers.items())"
      ],
      "metadata": {
        "colab": {
          "base_uri": "https://localhost:8080/"
        },
        "id": "_QKTcAUzthyv",
        "outputId": "9c959982-6048-4f2a-be01-45f8958b08b7"
      },
      "execution_count": 15,
      "outputs": [
        {
          "output_type": "execute_result",
          "data": {
            "text/plain": [
              "deque([('one', 1), ('two', 2), ('three', 3), ('four', 4)])"
            ]
          },
          "metadata": {},
          "execution_count": 15
        }
      ]
    },
    {
      "cell_type": "markdown",
      "source": [
        "# Popping and Appending Items Efficiently"
      ],
      "metadata": {
        "id": "18l9QI_Auj44"
      }
    },
    {
      "cell_type": "code",
      "source": [
        "from collections import deque"
      ],
      "metadata": {
        "id": "mQeBf4Aiuo9L"
      },
      "execution_count": 16,
      "outputs": []
    },
    {
      "cell_type": "code",
      "source": [
        "numbers = deque([1,2,3,4])\n",
        "numbers.popleft()"
      ],
      "metadata": {
        "colab": {
          "base_uri": "https://localhost:8080/"
        },
        "id": "96mYHrasuu-S",
        "outputId": "81d249f6-92b1-4309-8517-deacc5651f81"
      },
      "execution_count": 17,
      "outputs": [
        {
          "output_type": "execute_result",
          "data": {
            "text/plain": [
              "1"
            ]
          },
          "metadata": {},
          "execution_count": 17
        }
      ]
    },
    {
      "cell_type": "code",
      "source": [
        "numbers.popleft()"
      ],
      "metadata": {
        "colab": {
          "base_uri": "https://localhost:8080/"
        },
        "id": "G4F8DzdgwQ4v",
        "outputId": "f65ee7c2-bb9f-4a0e-b3e3-537cec10f3e2"
      },
      "execution_count": 18,
      "outputs": [
        {
          "output_type": "execute_result",
          "data": {
            "text/plain": [
              "2"
            ]
          },
          "metadata": {},
          "execution_count": 18
        }
      ]
    },
    {
      "cell_type": "code",
      "source": [
        "numbers"
      ],
      "metadata": {
        "colab": {
          "base_uri": "https://localhost:8080/"
        },
        "id": "w8C_YeRlwUFw",
        "outputId": "ad5790eb-a890-4c9b-be02-13911bc4f7b2"
      },
      "execution_count": 19,
      "outputs": [
        {
          "output_type": "execute_result",
          "data": {
            "text/plain": [
              "deque([3, 4])"
            ]
          },
          "metadata": {},
          "execution_count": 19
        }
      ]
    },
    {
      "cell_type": "code",
      "source": [
        "numbers.appendleft(2)\n",
        "numbers.appendleft(1)\n",
        "numbers"
      ],
      "metadata": {
        "colab": {
          "base_uri": "https://localhost:8080/"
        },
        "id": "DhK3R8vJwX7Y",
        "outputId": "a4263e23-2021-4952-b83a-f32c6d03d3cb"
      },
      "execution_count": 20,
      "outputs": [
        {
          "output_type": "execute_result",
          "data": {
            "text/plain": [
              "deque([1, 2, 3, 4])"
            ]
          },
          "metadata": {},
          "execution_count": 20
        }
      ]
    },
    {
      "cell_type": "code",
      "source": [
        "numbers.pop()"
      ],
      "metadata": {
        "colab": {
          "base_uri": "https://localhost:8080/"
        },
        "id": "s2k4iau9w0bg",
        "outputId": "474ed04d-d3c1-4ac4-a4b2-7c6db36daaff"
      },
      "execution_count": 21,
      "outputs": [
        {
          "output_type": "execute_result",
          "data": {
            "text/plain": [
              "4"
            ]
          },
          "metadata": {},
          "execution_count": 21
        }
      ]
    },
    {
      "cell_type": "code",
      "source": [
        "numbers.pop(0)"
      ],
      "metadata": {
        "colab": {
          "base_uri": "https://localhost:8080/",
          "height": 170
        },
        "id": "hhbK0W4qw3Qs",
        "outputId": "93f7d175-313b-4268-9361-9c0788b80e57"
      },
      "execution_count": 22,
      "outputs": [
        {
          "output_type": "error",
          "ename": "TypeError",
          "evalue": "ignored",
          "traceback": [
            "\u001b[0;31m---------------------------------------------------------------------------\u001b[0m",
            "\u001b[0;31mTypeError\u001b[0m                                 Traceback (most recent call last)",
            "\u001b[0;32m<ipython-input-22-875ff121a3a8>\u001b[0m in \u001b[0;36m<module>\u001b[0;34m\u001b[0m\n\u001b[0;32m----> 1\u001b[0;31m \u001b[0mnumbers\u001b[0m\u001b[0;34m.\u001b[0m\u001b[0mpop\u001b[0m\u001b[0;34m(\u001b[0m\u001b[0;36m0\u001b[0m\u001b[0;34m)\u001b[0m\u001b[0;34m\u001b[0m\u001b[0;34m\u001b[0m\u001b[0m\n\u001b[0m",
            "\u001b[0;31mTypeError\u001b[0m: pop() takes no arguments (1 given)"
          ]
        }
      ]
    },
    {
      "cell_type": "markdown",
      "source": [
        "### Example"
      ],
      "metadata": {
        "id": "fDKNXkgexC_A"
      }
    },
    {
      "cell_type": "code",
      "source": [
        "from collections import deque\n",
        "from time import perf_counter\n",
        "\n",
        "TIMES = 10_000\n",
        "a_list = []\n",
        "a_deque = deque()\n",
        "\n",
        "def average_time(func, times):\n",
        "    total = 0.0\n",
        "    for i in range(times):\n",
        "        start = perf_counter()\n",
        "        func(i)\n",
        "        total += (perf_counter() - start) * 1e9\n",
        "    return total / times\n",
        "\n",
        "list_time = average_time(lambda i: a_list.insert(0, i), TIMES)\n",
        "deque_time = average_time(lambda i: a_deque.appendleft(i), TIMES)\n",
        "gain = list_time / deque_time\n",
        "\n",
        "print(f\"list.insert()      {list_time:.6} ns\")\n",
        "print(f\"deque.appendleft() {deque_time:.6} ns  ({gain:.6}x faster)\")"
      ],
      "metadata": {
        "colab": {
          "base_uri": "https://localhost:8080/"
        },
        "id": "3cWn4r7jxFF0",
        "outputId": "137e9d12-43b5-4953-c7ef-e99e7f31659c"
      },
      "execution_count": 23,
      "outputs": [
        {
          "output_type": "stream",
          "name": "stdout",
          "text": [
            "list.insert()      3177.39 ns\n",
            "deque.appendleft() 203.355 ns  (15.6248x faster)\n"
          ]
        }
      ]
    },
    {
      "cell_type": "markdown",
      "source": [
        "## Building Efficient Queues With deque"
      ],
      "metadata": {
        "id": "N7mLebXFCUBv"
      }
    },
    {
      "cell_type": "markdown",
      "source": [
        "### Custom deque"
      ],
      "metadata": {
        "id": "QJIpey-4DIhW"
      }
    },
    {
      "cell_type": "code",
      "source": [
        "from collections import deque\n",
        "\n",
        "class Queue:\n",
        "    def __init__(self):\n",
        "        self._items = deque()\n",
        "\n",
        "    def enqueue(self, item):\n",
        "        self._items.append(item)\n",
        "\n",
        "    def dequeue(self):\n",
        "        try:\n",
        "            return self._items.popleft()\n",
        "        except IndexError:\n",
        "            raise IndexError(\"dequeue from an empty queue\") from None\n",
        "\n",
        "    def __len__(self):\n",
        "        return len(self._items)\n",
        "\n",
        "    def __contains__(self, item):\n",
        "        return item in self._items\n",
        "\n",
        "    def __iter__(self):\n",
        "        yield from self._items\n",
        "\n",
        "    def __reversed__(self):\n",
        "        yield from reversed(self._items)\n",
        "\n",
        "    def __repr__(self):\n",
        "        return f\"Queue({list(self._items)})\""
      ],
      "metadata": {
        "id": "2aX3DKS4DM7n"
      },
      "execution_count": 24,
      "outputs": []
    },
    {
      "cell_type": "code",
      "source": [
        "numbers = Queue()\n",
        "numbers"
      ],
      "metadata": {
        "colab": {
          "base_uri": "https://localhost:8080/"
        },
        "id": "WHujkYTUDh3J",
        "outputId": "58ffbc9f-48e6-4cfc-c0ab-9db98c4a4954"
      },
      "execution_count": 26,
      "outputs": [
        {
          "output_type": "execute_result",
          "data": {
            "text/plain": [
              "Queue([])"
            ]
          },
          "metadata": {},
          "execution_count": 26
        }
      ]
    },
    {
      "cell_type": "code",
      "source": [
        "for number in range(1,5):\n",
        "  numbers.enqueue(number)\n",
        "\n",
        "numbers"
      ],
      "metadata": {
        "colab": {
          "base_uri": "https://localhost:8080/"
        },
        "id": "MdlWrdAfDuEI",
        "outputId": "811229ad-9fc8-4802-bb08-33794787f055"
      },
      "execution_count": 27,
      "outputs": [
        {
          "output_type": "execute_result",
          "data": {
            "text/plain": [
              "Queue([1, 2, 3, 4])"
            ]
          },
          "metadata": {},
          "execution_count": 27
        }
      ]
    },
    {
      "cell_type": "code",
      "source": [
        "len(numbers)"
      ],
      "metadata": {
        "colab": {
          "base_uri": "https://localhost:8080/"
        },
        "id": "ShBKry0dD9lc",
        "outputId": "bebfdda7-c057-4365-c962-eb7dd4c7f72f"
      },
      "execution_count": 28,
      "outputs": [
        {
          "output_type": "execute_result",
          "data": {
            "text/plain": [
              "4"
            ]
          },
          "metadata": {},
          "execution_count": 28
        }
      ]
    },
    {
      "cell_type": "code",
      "source": [
        "#support membership test\n",
        "2 in numbers"
      ],
      "metadata": {
        "colab": {
          "base_uri": "https://localhost:8080/"
        },
        "id": "kEVHls-vD_bF",
        "outputId": "4a95fedd-0a49-4d60-b7fc-b4cf4fdcbc4f"
      },
      "execution_count": 29,
      "outputs": [
        {
          "output_type": "execute_result",
          "data": {
            "text/plain": [
              "True"
            ]
          },
          "metadata": {},
          "execution_count": 29
        }
      ]
    },
    {
      "cell_type": "code",
      "source": [
        "10 in numbers"
      ],
      "metadata": {
        "colab": {
          "base_uri": "https://localhost:8080/"
        },
        "id": "7QFOgOV5EJQf",
        "outputId": "2c9575f1-3879-49f3-eb0a-d376f9a53732"
      },
      "execution_count": 30,
      "outputs": [
        {
          "output_type": "execute_result",
          "data": {
            "text/plain": [
              "False"
            ]
          },
          "metadata": {},
          "execution_count": 30
        }
      ]
    },
    {
      "cell_type": "code",
      "source": [
        "for number in numbers:\n",
        "  print(f\"{number} in numbers\")"
      ],
      "metadata": {
        "colab": {
          "base_uri": "https://localhost:8080/"
        },
        "id": "nrjXEwdyEOEG",
        "outputId": "c7d021de-dd79-4df6-e95c-32b88ee4706b"
      },
      "execution_count": 31,
      "outputs": [
        {
          "output_type": "stream",
          "name": "stdout",
          "text": [
            "1 in numbers\n",
            "2 in numbers\n",
            "3 in numbers\n",
            "4 in numbers\n"
          ]
        }
      ]
    },
    {
      "cell_type": "markdown",
      "source": [
        "## Other features deque\n",
        "\n",
        "\n",
        "*   maxlen : maximum length of a given deque\n",
        "*   rotate : rotate their elements by calling .rotate() on a non-empty deque\n",
        "\n"
      ],
      "metadata": {
        "id": "X-synn5UE0hf"
      }
    },
    {
      "cell_type": "code",
      "source": [
        "four_numbers = deque([0, 1, 2, 3, 4], maxlen=4) # Discard 0\n",
        "four_numbers"
      ],
      "metadata": {
        "colab": {
          "base_uri": "https://localhost:8080/"
        },
        "id": "eLEC953MFUEa",
        "outputId": "aad567c0-d36b-4251-d709-6634bf23a8c3"
      },
      "execution_count": 33,
      "outputs": [
        {
          "output_type": "execute_result",
          "data": {
            "text/plain": [
              "deque([1, 2, 3, 4])"
            ]
          },
          "metadata": {},
          "execution_count": 33
        }
      ]
    },
    {
      "cell_type": "code",
      "source": [
        "four_numbers.append(5) # Automatically remove 1\n",
        "four_numbers"
      ],
      "metadata": {
        "colab": {
          "base_uri": "https://localhost:8080/"
        },
        "id": "ArO6RkdlFhSP",
        "outputId": "24456236-2169-42f6-a841-55206c8e2010"
      },
      "execution_count": 34,
      "outputs": [
        {
          "output_type": "execute_result",
          "data": {
            "text/plain": [
              "deque([2, 3, 4, 5])"
            ]
          },
          "metadata": {},
          "execution_count": 34
        }
      ]
    },
    {
      "cell_type": "code",
      "source": [
        "four_numbers.maxlen"
      ],
      "metadata": {
        "colab": {
          "base_uri": "https://localhost:8080/"
        },
        "id": "KjoeqEFTFzdd",
        "outputId": "a5e1a65a-afc6-43c2-b256-74be1ab9d971"
      },
      "execution_count": 35,
      "outputs": [
        {
          "output_type": "execute_result",
          "data": {
            "text/plain": [
              "4"
            ]
          },
          "metadata": {},
          "execution_count": 35
        }
      ]
    },
    {
      "cell_type": "code",
      "source": [
        "ordinals = deque([\"first\", \"second\", \"third\"])\n",
        "ordinals"
      ],
      "metadata": {
        "colab": {
          "base_uri": "https://localhost:8080/"
        },
        "id": "jgRnrJetF76l",
        "outputId": "90fec1f7-ac77-41b7-e530-61750145b94a"
      },
      "execution_count": 37,
      "outputs": [
        {
          "output_type": "execute_result",
          "data": {
            "text/plain": [
              "deque(['first', 'second', 'third'])"
            ]
          },
          "metadata": {},
          "execution_count": 37
        }
      ]
    },
    {
      "cell_type": "code",
      "source": [
        "# Rotate item to the right\n",
        "ordinals.rotate()\n",
        "ordinals"
      ],
      "metadata": {
        "colab": {
          "base_uri": "https://localhost:8080/"
        },
        "id": "seV47I1DF_Sv",
        "outputId": "92234198-0c76-49fc-83e4-42ae3e4b34dc"
      },
      "execution_count": 39,
      "outputs": [
        {
          "output_type": "execute_result",
          "data": {
            "text/plain": [
              "deque(['second', 'third', 'first'])"
            ]
          },
          "metadata": {},
          "execution_count": 39
        }
      ]
    }
  ]
}