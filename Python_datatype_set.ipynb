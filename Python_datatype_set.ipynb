{
  "nbformat": 4,
  "nbformat_minor": 0,
  "metadata": {
    "colab": {
      "provenance": [],
      "authorship_tag": "ABX9TyM0v5NNRhqFyHBLYMZmjH1v",
      "include_colab_link": true
    },
    "kernelspec": {
      "name": "python3",
      "display_name": "Python 3"
    },
    "language_info": {
      "name": "python"
    }
  },
  "cells": [
    {
      "cell_type": "markdown",
      "metadata": {
        "id": "view-in-github",
        "colab_type": "text"
      },
      "source": [
        "<a href=\"https://colab.research.google.com/github/jeonjnh/python_colab_exercise/blob/main/Python_datatype_set.ipynb\" target=\"_parent\"><img src=\"https://colab.research.google.com/assets/colab-badge.svg\" alt=\"Open In Colab\"/></a>"
      ]
    },
    {
      "cell_type": "markdown",
      "source": [
        "# Set in Python\n",
        "\n",
        "\n",
        "> A set is a collection of unique data. That is, elelments of  a set cannnot be duplicate. For example, Suppose we want to store information about student IDs. Since student IDs cannot be duplicate, we can use a set.\n",
        "\n"
      ],
      "metadata": {
        "id": "A8jbFRDjex7a"
      }
    },
    {
      "cell_type": "markdown",
      "source": [
        "## Create a Set in Python"
      ],
      "metadata": {
        "id": "rXKH8dB9fOig"
      }
    },
    {
      "cell_type": "code",
      "execution_count": 1,
      "metadata": {
        "colab": {
          "base_uri": "https://localhost:8080/"
        },
        "id": "IzcVSGI0eq6s",
        "outputId": "56ab2907-fa84-4b0d-d86c-116e8ceadef9"
      },
      "outputs": [
        {
          "output_type": "stream",
          "name": "stdout",
          "text": [
            "student ID: {112, 114, 115, 116, 118}\n"
          ]
        }
      ],
      "source": [
        "# craete a set of integer type\n",
        "student_id = {112,114,116,118,115}\n",
        "print('student ID:',student_id)"
      ]
    },
    {
      "cell_type": "code",
      "source": [
        "#create a set of string type\n",
        "vovwel_letters = {'a','e','i','o','u'}\n",
        "print('vovwel_letters:',vovwel_letters)"
      ],
      "metadata": {
        "colab": {
          "base_uri": "https://localhost:8080/"
        },
        "id": "lZk8yJvjfnbe",
        "outputId": "dcbe23cd-13ee-4ab5-9e58-c0049ac8f0f1"
      },
      "execution_count": 2,
      "outputs": [
        {
          "output_type": "stream",
          "name": "stdout",
          "text": [
            "vovwel_letters: {'o', 'e', 'u', 'a', 'i'}\n"
          ]
        }
      ]
    },
    {
      "cell_type": "code",
      "source": [
        "# create a set of mixed data type\n",
        "mixed_set = {'hello',101,-2,'bye'}\n",
        "print('mixed set:', mixed_set)"
      ],
      "metadata": {
        "colab": {
          "base_uri": "https://localhost:8080/"
        },
        "id": "X89rh5uzf8OO",
        "outputId": "5943867f-ca5a-4a91-e667-1dd5ffc38cd4"
      },
      "execution_count": 3,
      "outputs": [
        {
          "output_type": "stream",
          "name": "stdout",
          "text": [
            "mixed set: {'hello', 101, -2, 'bye'}\n"
          ]
        }
      ]
    },
    {
      "cell_type": "markdown",
      "source": [
        "## Create an Empty Set in Python\n",
        "\n",
        "\n",
        "> Empty curly braces {} will make an empty dictionary in python. To make a set without any elements, we use the set() function without argumnent.\n",
        "\n"
      ],
      "metadata": {
        "id": "i3n-pjKOgJvL"
      }
    },
    {
      "cell_type": "code",
      "source": [
        "# create an empty set\n",
        "empty_set = set()\n",
        "\n",
        "# create an empty dictionary\n",
        "empty_dictionary = { }\n",
        "\n",
        "# check data type of empty_set, empty_dictionary\n",
        "print('Data type of empty_set',type(empty_set))\n",
        "print('Data type of empty_dictionary',type(empty_dictionary))"
      ],
      "metadata": {
        "colab": {
          "base_uri": "https://localhost:8080/"
        },
        "id": "9DqKyemigO7s",
        "outputId": "d9d5a8d0-a06a-4c43-be05-733415ba4fbd"
      },
      "execution_count": 5,
      "outputs": [
        {
          "output_type": "stream",
          "name": "stdout",
          "text": [
            "Data type of empty_set <class 'set'>\n",
            "Data type of empty_dictionary <class 'dict'>\n"
          ]
        }
      ]
    },
    {
      "cell_type": "markdown",
      "source": [
        "## Duplicate Item in a Set"
      ],
      "metadata": {
        "id": "e_BOtDD-gxG0"
      }
    },
    {
      "cell_type": "code",
      "source": [
        "numbers = {2,4,6,6,2,8}\n",
        "print(numbers)"
      ],
      "metadata": {
        "colab": {
          "base_uri": "https://localhost:8080/"
        },
        "id": "-5gf2cB7g0Tt",
        "outputId": "f3b26b9a-9cb5-49ed-c07f-a7177bce0aec"
      },
      "execution_count": 6,
      "outputs": [
        {
          "output_type": "stream",
          "name": "stdout",
          "text": [
            "{8, 2, 4, 6}\n"
          ]
        }
      ]
    },
    {
      "cell_type": "markdown",
      "source": [
        "## Add and Update Set Items in Python"
      ],
      "metadata": {
        "id": "P5OT804ihZf8"
      }
    },
    {
      "cell_type": "code",
      "source": [
        "numbers = {21,34,54,12}\n",
        "print('Initial Set:', numbers)"
      ],
      "metadata": {
        "colab": {
          "base_uri": "https://localhost:8080/"
        },
        "id": "HjkBYeq2hiFF",
        "outputId": "a7c56e14-8c1b-4d01-9d13-784a7aab79b7"
      },
      "execution_count": 7,
      "outputs": [
        {
          "output_type": "stream",
          "name": "stdout",
          "text": [
            "Initial Set: {34, 12, 21, 54}\n"
          ]
        }
      ]
    },
    {
      "cell_type": "code",
      "source": [
        "# using add() method\n",
        "numbers.add(32)\n",
        "print(numbers)"
      ],
      "metadata": {
        "colab": {
          "base_uri": "https://localhost:8080/"
        },
        "id": "-UkpBm9whq6S",
        "outputId": "6aca931d-5f60-4a27-f47a-69f3309f74b3"
      },
      "execution_count": 8,
      "outputs": [
        {
          "output_type": "stream",
          "name": "stdout",
          "text": [
            "{32, 34, 12, 21, 54}\n"
          ]
        }
      ]
    },
    {
      "cell_type": "code",
      "source": [
        "# using update() method\n",
        "companies = {'Lacoste','Ralph Lauren'}\n",
        "tech_comanies = ['apple','google','apple']\n",
        "companies.update(tech_comanies)\n",
        "\n",
        "print(companies)"
      ],
      "metadata": {
        "colab": {
          "base_uri": "https://localhost:8080/"
        },
        "id": "tmew4LyHhzmy",
        "outputId": "d0b8cf85-0552-4994-9c3a-9ee9fa343f35"
      },
      "execution_count": 9,
      "outputs": [
        {
          "output_type": "stream",
          "name": "stdout",
          "text": [
            "{'Lacoste', 'Ralph Lauren', 'google', 'apple'}\n"
          ]
        }
      ]
    },
    {
      "cell_type": "code",
      "source": [
        "# using discard() method\n",
        "languages = {'Swift','Java','Python'}\n",
        "print('Initial Set:', languages)\n",
        "\n",
        "# remove 'Java' from a set\n",
        "removedValue = languages.discard('Java')\n",
        "print('Set after remove():', languages)"
      ],
      "metadata": {
        "colab": {
          "base_uri": "https://localhost:8080/"
        },
        "id": "-RsaQQtpiQTx",
        "outputId": "16c6c575-ebf9-4c80-d9d9-302c30892908"
      },
      "execution_count": 10,
      "outputs": [
        {
          "output_type": "stream",
          "name": "stdout",
          "text": [
            "Initial Set: {'Python', 'Swift', 'Java'}\n",
            "Set after remove(): {'Python', 'Swift'}\n"
          ]
        }
      ]
    },
    {
      "cell_type": "markdown",
      "source": [
        "## Built-in Functions with Set\n",
        "\n",
        "\n",
        "> Built-in functions like all(), any(), enumerate(), len(), max(), min(), sorted(), sum() etc. are commonly used with sets to perform different tasks.\n",
        "\n"
      ],
      "metadata": {
        "id": "4BUOfHYui-P7"
      }
    },
    {
      "cell_type": "markdown",
      "source": [
        "## Python Set Operation"
      ],
      "metadata": {
        "id": "z7qytD1kjbwX"
      }
    },
    {
      "cell_type": "markdown",
      "source": [
        "### Union of Two Sets\n",
        "\n",
        "\n",
        "> The union of two sets A and B include all the elements of set A and B.\n",
        "> We use the | operator or the union() method to perform the set union operation.\n",
        "\n"
      ],
      "metadata": {
        "id": "iMSXcPzqje9f"
      }
    },
    {
      "cell_type": "code",
      "source": [
        "# first set\n",
        "A = {1,3,5}\n",
        "# second set\n",
        "B = {0,2,4}\n",
        "\n",
        "# perform union operatio using |\n",
        "print('Union using |:', A | B)\n",
        "print('Union using union():', A.union(B))"
      ],
      "metadata": {
        "colab": {
          "base_uri": "https://localhost:8080/"
        },
        "id": "30GuL7FakB35",
        "outputId": "cf027b55-3548-49b3-a829-b68cddf413bb"
      },
      "execution_count": 12,
      "outputs": [
        {
          "output_type": "stream",
          "name": "stdout",
          "text": [
            "Union using |: {0, 1, 2, 3, 4, 5}\n",
            "Union using union(): {0, 1, 2, 3, 4, 5}\n"
          ]
        }
      ]
    },
    {
      "cell_type": "markdown",
      "source": [
        "### Set Intersection\n",
        "> The intersection of two sets A and B include the common elements between set A and B.\n",
        "> In Python, we use the & operator or the intersection() method to perform the set intersection operation."
      ],
      "metadata": {
        "id": "MZTcrtUGkksJ"
      }
    },
    {
      "cell_type": "code",
      "source": [
        "# first set\n",
        "A = {1,3,5}\n",
        "# second set\n",
        "B = {1,2,3}\n",
        "\n",
        "# perform intersection operation using &\n",
        "print('Intersection using &:', A&B)\n",
        "print('Intersection intersection():', A.intersection(B))"
      ],
      "metadata": {
        "colab": {
          "base_uri": "https://localhost:8080/"
        },
        "id": "fdZum1XAkxny",
        "outputId": "31369b42-0080-4e89-ecbd-d12dc2934e6b"
      },
      "execution_count": 14,
      "outputs": [
        {
          "output_type": "stream",
          "name": "stdout",
          "text": [
            "Intersection using &: {1, 3}\n",
            "Intersection intersection(): {1, 3}\n"
          ]
        }
      ]
    },
    {
      "cell_type": "markdown",
      "source": [
        "### Diffence between Two Sets\n",
        "> The difference between two sets A and B include elements of set A that are not present on set B.\n",
        "> We use the - operator or the difference() method to perform the difference between two sets. "
      ],
      "metadata": {
        "id": "VHJxISNMlO6x"
      }
    },
    {
      "cell_type": "code",
      "source": [
        "# first set\n",
        "A = {2, 3, 5}\n",
        "\n",
        "# second set\n",
        "B = {1, 2, 6}\n",
        "\n",
        "# perform difference operation using -\n",
        "print('Difference using - :', A-B)\n",
        "\n",
        "# perform difference operation difference()\n",
        "print('Difference using difference() :', A.difference(B))"
      ],
      "metadata": {
        "colab": {
          "base_uri": "https://localhost:8080/"
        },
        "id": "n4N3xvNxlW4R",
        "outputId": "655f134b-efad-4386-8331-1931bc33fabf"
      },
      "execution_count": 16,
      "outputs": [
        {
          "output_type": "stream",
          "name": "stdout",
          "text": [
            "Difference using - : {3, 5}\n",
            "Difference using difference() : {3, 5}\n"
          ]
        }
      ]
    },
    {
      "cell_type": "markdown",
      "source": [
        "### Set Symmetric Difference\n",
        "> The symmetric difference between two sets A and B includes all elements of A and B without the common elements.\n",
        "> In Python, we use the ^ operator or the symmetric_difference() method to perform symmetric difference between two sets."
      ],
      "metadata": {
        "id": "tJUW4KIHl5pH"
      }
    },
    {
      "cell_type": "code",
      "source": [
        "# first set\n",
        "A = {2, 3, 5}\n",
        "\n",
        "# second set\n",
        "B = {1, 2, 6}\n",
        "\n",
        "# perform symmetric_difference operation using ^\n",
        "print('Symmetric Difference using ^ :', A^B)\n",
        "\n",
        "# perform difference operation difference()\n",
        "print('Symmetric Difference using symmetric_difference() :', A.symmetric_difference(B))"
      ],
      "metadata": {
        "colab": {
          "base_uri": "https://localhost:8080/"
        },
        "id": "wQJajUeTmEf6",
        "outputId": "942ef2a2-6393-40c8-98eb-bc2300b3b7b8"
      },
      "execution_count": 17,
      "outputs": [
        {
          "output_type": "stream",
          "name": "stdout",
          "text": [
            "Symmetric Difference using ^ : {1, 3, 5, 6}\n",
            "Symmetric Difference using symmetric_difference() : {1, 3, 5, 6}\n"
          ]
        }
      ]
    }
  ]
}